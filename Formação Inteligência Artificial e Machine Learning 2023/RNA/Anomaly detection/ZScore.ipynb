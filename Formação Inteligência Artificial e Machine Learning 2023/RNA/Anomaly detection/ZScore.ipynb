{
  "nbformat": 4,
  "nbformat_minor": 0,
  "metadata": {
    "colab": {
      "provenance": []
    },
    "kernelspec": {
      "name": "python3",
      "display_name": "Python 3"
    },
    "language_info": {
      "name": "python"
    }
  },
  "cells": [
    {
      "cell_type": "code",
      "source": [
        "import numpy as np\n",
        "import scipy.stats as stats"
      ],
      "metadata": {
        "id": "mLUS2tgzg5AQ"
      },
      "execution_count": 1,
      "outputs": []
    },
    {
      "cell_type": "code",
      "execution_count": 2,
      "metadata": {
        "id": "sMpRtKSKg39m"
      },
      "outputs": [],
      "source": [
        "data = np.array([30,29,30,31,100,29,28,30,300,31,32,33])"
      ]
    },
    {
      "cell_type": "code",
      "source": [
        "zscores = stats.zscore(data)"
      ],
      "metadata": {
        "id": "86JfBydHhM1f"
      },
      "execution_count": 3,
      "outputs": []
    },
    {
      "cell_type": "code",
      "source": [
        "print(zscores)"
      ],
      "metadata": {
        "colab": {
          "base_uri": "https://localhost:8080/"
        },
        "id": "-iDKhaDKhRb2",
        "outputId": "3af7b682-e115-4a0a-91d9-8bbed8fe10da"
      },
      "execution_count": 4,
      "outputs": [
        {
          "output_type": "stream",
          "name": "stdout",
          "text": [
            "[-0.37966016 -0.39294273 -0.37966016 -0.36637759  0.55011982 -0.39294273\n",
            " -0.4062253  -0.37966016  3.20663406 -0.36637759 -0.35309502 -0.33981245]\n"
          ]
        }
      ]
    },
    {
      "cell_type": "code",
      "source": [
        "anomalies = data[np.abs(zscores) > 3]\n",
        "print(f\"Anomalies = {anomalies}\")"
      ],
      "metadata": {
        "colab": {
          "base_uri": "https://localhost:8080/"
        },
        "id": "z8VMWP1ihTEq",
        "outputId": "32b2cc77-46fa-47b3-fbef-b7533fe0f086"
      },
      "execution_count": 5,
      "outputs": [
        {
          "output_type": "stream",
          "name": "stdout",
          "text": [
            "Anomalies = [300]\n"
          ]
        }
      ]
    }
  ]
}
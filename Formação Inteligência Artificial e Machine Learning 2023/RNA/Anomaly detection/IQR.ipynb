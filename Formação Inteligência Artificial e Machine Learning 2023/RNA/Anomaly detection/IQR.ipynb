{
  "nbformat": 4,
  "nbformat_minor": 0,
  "metadata": {
    "colab": {
      "provenance": []
    },
    "kernelspec": {
      "name": "python3",
      "display_name": "Python 3"
    },
    "language_info": {
      "name": "python"
    }
  },
  "cells": [
    {
      "cell_type": "code",
      "execution_count": 1,
      "metadata": {
        "id": "Sf-By6PFhpRC"
      },
      "outputs": [],
      "source": [
        "import numpy as np"
      ]
    },
    {
      "cell_type": "code",
      "source": [
        "dataset = [-300, 1,2,3,4,5,6,7,8,9,100, 200]"
      ],
      "metadata": {
        "id": "OsHSrhoDhxCe"
      },
      "execution_count": 4,
      "outputs": []
    },
    {
      "cell_type": "code",
      "source": [
        "first_quartil = np.percentile(dataset, 25)\n",
        "third_quartil = np.percentile(dataset, 75)\n",
        "iqr = third_quartil - first_quartil\n",
        "\n",
        "lower_bound = first_quartil - 1.5 * iqr\n",
        "upper_bound = first_quartil + 1.5 * iqr\n",
        "\n",
        "outliers = []\n",
        "for value in dataset:\n",
        "  if value < lower_bound or value > upper_bound:\n",
        "    outliers.append(value)\n",
        "\n",
        "print(f\"Outliers = {outliers}\")"
      ],
      "metadata": {
        "colab": {
          "base_uri": "https://localhost:8080/"
        },
        "id": "ItCOk5iKh1JP",
        "outputId": "b265da79-969f-4b7a-dd4b-8d7771c4ce53"
      },
      "execution_count": 5,
      "outputs": [
        {
          "output_type": "stream",
          "name": "stdout",
          "text": [
            "Outliers = [-300, 100, 200]\n"
          ]
        }
      ]
    }
  ]
}
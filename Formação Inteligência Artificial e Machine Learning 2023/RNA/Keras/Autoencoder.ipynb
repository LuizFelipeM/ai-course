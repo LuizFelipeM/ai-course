{
  "nbformat": 4,
  "nbformat_minor": 0,
  "metadata": {
    "colab": {
      "provenance": [],
      "gpuType": "T4"
    },
    "kernelspec": {
      "name": "python3",
      "display_name": "Python 3"
    },
    "language_info": {
      "name": "python"
    },
    "accelerator": "GPU"
  },
  "cells": [
    {
      "cell_type": "code",
      "execution_count": 1,
      "metadata": {
        "id": "uUTweYU9z3F7"
      },
      "outputs": [],
      "source": [
        "import numpy as np\n",
        "import matplotlib.pyplot as plt\n",
        "from keras.datasets import mnist\n",
        "from keras.models import Sequential, Model\n",
        "from keras.layers import Dense, Input"
      ]
    },
    {
      "cell_type": "code",
      "source": [
        "(X_train, _), (X_test, _) = mnist.load_data()"
      ],
      "metadata": {
        "id": "YetUWuuw0THq"
      },
      "execution_count": 10,
      "outputs": []
    },
    {
      "cell_type": "code",
      "source": [
        "X_train.shape"
      ],
      "metadata": {
        "colab": {
          "base_uri": "https://localhost:8080/"
        },
        "id": "2wwMj6e30hOn",
        "outputId": "3910ac92-c607-4b43-c412-c229e95fe662"
      },
      "execution_count": 11,
      "outputs": [
        {
          "output_type": "execute_result",
          "data": {
            "text/plain": [
              "(60000, 28, 28)"
            ]
          },
          "metadata": {},
          "execution_count": 11
        }
      ]
    },
    {
      "cell_type": "code",
      "source": [
        "plt.imshow(X_train[4], cmap='gray')\n",
        "plt.show()"
      ],
      "metadata": {
        "colab": {
          "base_uri": "https://localhost:8080/",
          "height": 430
        },
        "id": "3Ufli6Rv0jep",
        "outputId": "ec53fcbb-7ac2-4c02-ca67-bc144fb8e1b0"
      },
      "execution_count": 12,
      "outputs": [
        {
          "output_type": "display_data",
          "data": {
            "text/plain": [
              "<Figure size 640x480 with 1 Axes>"
            ],
            "image/png": "[encoded data removed]"
          },
          "metadata": {}
        }
      ]
    },
    {
      "cell_type": "code",
      "source": [
        "X_train = X_train.astype(\"float32\") / 255.0\n",
        "X_test = X_test.astype(\"float32\") / 255.0"
      ],
      "metadata": {
        "id": "6hYxcNMy0qJl"
      },
      "execution_count": 13,
      "outputs": []
    },
    {
      "cell_type": "code",
      "source": [
        "X_train = X_train.reshape(len(X_train), np.prod(X_train.shape[1:]))\n",
        "X_test = X_test.reshape(len(X_test), np.prod(X_test.shape[1:]))"
      ],
      "metadata": {
        "id": "ak3UkYMV14HW"
      },
      "execution_count": 14,
      "outputs": []
    },
    {
      "cell_type": "code",
      "source": [
        "X_train_noise = X_train + 0.5 * np.random.normal(loc=0.0, scale=1.0, size=X_train.shape)\n",
        "X_test_noise = X_test + 0.5 * np.random.normal(loc=0.0, scale=1.0, size=X_test.shape)"
      ],
      "metadata": {
        "id": "GEyGBTu62GSY"
      },
      "execution_count": 15,
      "outputs": []
    },
    {
      "cell_type": "code",
      "source": [
        "X_train_noise = np.clip(X_train_noise, 0.0, 1.0)\n",
        "X_test_noise = np.clip(X_test_noise, 0.0, 1.0)"
      ],
      "metadata": {
        "id": "XTaf2BaH23Rh"
      },
      "execution_count": 16,
      "outputs": []
    },
    {
      "cell_type": "code",
      "source": [
        "inputs = Input(shape=(784,))\n",
        "encoder = Dense(32, activation=\"relu\")(inputs)\n",
        "decoder = Dense(784, activation=\"sigmoid\")(encoder)\n",
        "\n",
        "autoencoder = Model(inputs, decoder)\n",
        "autoencoder.compile(optimizer=\"adam\", loss=\"binary_crossentropy\")\n",
        "autoencoder.fit(X_train_noise,\n",
        "                X_train,\n",
        "                epochs=100,\n",
        "                batch_size=256,\n",
        "                shuffle=True,\n",
        "                validation_data=(X_test_noise, X_test))"
      ],
      "metadata": {
        "colab": {
          "base_uri": "https://localhost:8080/"
        },
        "id": "GPdyyRw23H6I",
        "outputId": "b4bf4f62-5d45-4580-cf5b-6d7c95a493df"
      },
      "execution_count": 17,
      "outputs": [
        {
          "output_type": "stream",
          "name": "stdout",
          "text": [
            "Epoch 1/100\n",
            "235/235 [==============================] - 7s 7ms/step - loss: 0.2841 - val_loss: 0.2210\n",
            "Epoch 2/100\n",
            "235/235 [==============================] - 1s 6ms/step - loss: 0.1996 - val_loss: 0.1837\n",
            "Epoch 3/100\n",
            "235/235 [==============================] - 1s 5ms/step - loss: 0.1761 - val_loss: 0.1654\n",
            "Epoch 4/100\n",
            "235/235 [==============================] - 1s 4ms/step - loss: 0.1593 - val_loss: 0.1519\n",
            "Epoch 5/100\n",
            "235/235 [==============================] - 1s 4ms/step - loss: 0.1495 - val_loss: 0.1447\n",
            "Epoch 6/100\n",
            "235/235 [==============================] - 1s 4ms/step - loss: 0.1433 - val_loss: 0.1394\n",
            "Epoch 7/100\n",
            "235/235 [==============================] - 1s 4ms/step - loss: 0.1378 - val_loss: 0.1340\n",
            "Epoch 8/100\n",
            "235/235 [==============================] - 1s 4ms/step - loss: 0.1339 - val_loss: 0.1315\n",
            "Epoch 9/100\n",
            "235/235 [==============================] - 1s 4ms/step - loss: 0.1318 - val_loss: 0.1298\n",
            "Epoch 10/100\n",
            "235/235 [==============================] - 1s 4ms/step - loss: 0.1304 - val_loss: 0.1287\n",
            "Epoch 11/100\n",
            "235/235 [==============================] - 1s 4ms/step - loss: 0.1296 - val_loss: 0.1281\n",
            "Epoch 12/100\n",
            "235/235 [==============================] - 1s 4ms/step - loss: 0.1290 - val_loss: 0.1277\n",
            "Epoch 13/100\n",
            "235/235 [==============================] - 1s 4ms/step - loss: 0.1286 - val_loss: 0.1274\n",
            "Epoch 14/100\n",
            "235/235 [==============================] - 1s 6ms/step - loss: 0.1283 - val_loss: 0.1271\n",
            "Epoch 15/100\n",
            "235/235 [==============================] - 1s 6ms/step - loss: 0.1281 - val_loss: 0.1269\n",
            "Epoch 16/100\n",
            "235/235 [==============================] - 1s 6ms/step - loss: 0.1277 - val_loss: 0.1262\n",
            "Epoch 17/100\n",
            "235/235 [==============================] - 1s 5ms/step - loss: 0.1270 - val_loss: 0.1258\n",
            "Epoch 18/100\n",
            "235/235 [==============================] - 1s 4ms/step - loss: 0.1268 - val_loss: 0.1258\n",
            "Epoch 19/100\n",
            "235/235 [==============================] - 1s 4ms/step - loss: 0.1266 - val_loss: 0.1255\n",
            "Epoch 20/100\n",
            "235/235 [==============================] - 1s 4ms/step - loss: 0.1264 - val_loss: 0.1254\n",
            "Epoch 21/100\n",
            "235/235 [==============================] - 1s 4ms/step - loss: 0.1263 - val_loss: 0.1253\n",
            "Epoch 22/100\n",
            "235/235 [==============================] - 1s 4ms/step - loss: 0.1262 - val_loss: 0.1252\n",
            "Epoch 23/100\n",
            "235/235 [==============================] - 1s 4ms/step - loss: 0.1261 - val_loss: 0.1252\n",
            "Epoch 24/100\n",
            "235/235 [==============================] - 1s 4ms/step - loss: 0.1259 - val_loss: 0.1250\n",
            "Epoch 25/100\n",
            "235/235 [==============================] - 1s 4ms/step - loss: 0.1258 - val_loss: 0.1248\n",
            "Epoch 26/100\n",
            "235/235 [==============================] - 1s 4ms/step - loss: 0.1257 - val_loss: 0.1248\n",
            "Epoch 27/100\n",
            "235/235 [==============================] - 1s 6ms/step - loss: 0.1256 - val_loss: 0.1247\n",
            "Epoch 28/100\n",
            "235/235 [==============================] - 1s 6ms/step - loss: 0.1255 - val_loss: 0.1245\n",
            "Epoch 29/100\n",
            "235/235 [==============================] - 1s 6ms/step - loss: 0.1254 - val_loss: 0.1244\n",
            "Epoch 30/100\n",
            "235/235 [==============================] - 1s 4ms/step - loss: 0.1253 - val_loss: 0.1243\n",
            "Epoch 31/100\n",
            "235/235 [==============================] - 1s 4ms/step - loss: 0.1252 - val_loss: 0.1244\n",
            "Epoch 32/100\n",
            "235/235 [==============================] - 1s 4ms/step - loss: 0.1251 - val_loss: 0.1243\n",
            "Epoch 33/100\n",
            "235/235 [==============================] - 1s 4ms/step - loss: 0.1250 - val_loss: 0.1240\n",
            "Epoch 34/100\n",
            "235/235 [==============================] - 1s 4ms/step - loss: 0.1249 - val_loss: 0.1239\n",
            "Epoch 35/100\n",
            "235/235 [==============================] - 1s 4ms/step - loss: 0.1248 - val_loss: 0.1239\n",
            "Epoch 36/100\n",
            "235/235 [==============================] - 1s 4ms/step - loss: 0.1247 - val_loss: 0.1238\n",
            "Epoch 37/100\n",
            "235/235 [==============================] - 1s 4ms/step - loss: 0.1247 - val_loss: 0.1238\n",
            "Epoch 38/100\n",
            "235/235 [==============================] - 1s 4ms/step - loss: 0.1246 - val_loss: 0.1237\n",
            "Epoch 39/100\n",
            "235/235 [==============================] - 1s 4ms/step - loss: 0.1245 - val_loss: 0.1237\n",
            "Epoch 40/100\n",
            "235/235 [==============================] - 1s 5ms/step - loss: 0.1245 - val_loss: 0.1236\n",
            "Epoch 41/100\n",
            "235/235 [==============================] - 1s 5ms/step - loss: 0.1244 - val_loss: 0.1238\n",
            "Epoch 42/100\n",
            "235/235 [==============================] - 1s 6ms/step - loss: 0.1244 - val_loss: 0.1235\n",
            "Epoch 43/100\n",
            "235/235 [==============================] - 1s 5ms/step - loss: 0.1243 - val_loss: 0.1234\n",
            "Epoch 44/100\n",
            "235/235 [==============================] - 1s 4ms/step - loss: 0.1243 - val_loss: 0.1233\n",
            "Epoch 45/100\n",
            "235/235 [==============================] - 1s 4ms/step - loss: 0.1242 - val_loss: 0.1234\n",
            "Epoch 46/100\n",
            "235/235 [==============================] - 1s 4ms/step - loss: 0.1242 - val_loss: 0.1233\n",
            "Epoch 47/100\n",
            "235/235 [==============================] - 1s 4ms/step - loss: 0.1241 - val_loss: 0.1232\n",
            "Epoch 48/100\n",
            "235/235 [==============================] - 1s 4ms/step - loss: 0.1241 - val_loss: 0.1232\n",
            "Epoch 49/100\n",
            "235/235 [==============================] - 1s 4ms/step - loss: 0.1241 - val_loss: 0.1233\n",
            "Epoch 50/100\n",
            "235/235 [==============================] - 1s 5ms/step - loss: 0.1240 - val_loss: 0.1232\n",
            "Epoch 51/100\n",
            "235/235 [==============================] - 1s 4ms/step - loss: 0.1240 - val_loss: 0.1232\n",
            "Epoch 52/100\n",
            "235/235 [==============================] - 1s 4ms/step - loss: 0.1240 - val_loss: 0.1231\n",
            "Epoch 53/100\n",
            "235/235 [==============================] - 1s 5ms/step - loss: 0.1240 - val_loss: 0.1231\n",
            "Epoch 54/100\n",
            "235/235 [==============================] - 1s 6ms/step - loss: 0.1239 - val_loss: 0.1231\n",
            "Epoch 55/100\n",
            "235/235 [==============================] - 2s 7ms/step - loss: 0.1239 - val_loss: 0.1231\n",
            "Epoch 56/100\n",
            "235/235 [==============================] - 1s 5ms/step - loss: 0.1239 - val_loss: 0.1230\n",
            "Epoch 57/100\n",
            "235/235 [==============================] - 1s 5ms/step - loss: 0.1239 - val_loss: 0.1230\n",
            "Epoch 58/100\n",
            "235/235 [==============================] - 1s 4ms/step - loss: 0.1239 - val_loss: 0.1230\n",
            "Epoch 59/100\n",
            "235/235 [==============================] - 1s 4ms/step - loss: 0.1238 - val_loss: 0.1230\n",
            "Epoch 60/100\n",
            "235/235 [==============================] - 1s 4ms/step - loss: 0.1238 - val_loss: 0.1229\n",
            "Epoch 61/100\n",
            "235/235 [==============================] - 1s 4ms/step - loss: 0.1238 - val_loss: 0.1230\n",
            "Epoch 62/100\n",
            "235/235 [==============================] - 1s 5ms/step - loss: 0.1238 - val_loss: 0.1229\n",
            "Epoch 63/100\n",
            "235/235 [==============================] - 1s 4ms/step - loss: 0.1238 - val_loss: 0.1230\n",
            "Epoch 64/100\n",
            "235/235 [==============================] - 1s 4ms/step - loss: 0.1238 - val_loss: 0.1229\n",
            "Epoch 65/100\n",
            "235/235 [==============================] - 1s 4ms/step - loss: 0.1238 - val_loss: 0.1229\n",
            "Epoch 66/100\n",
            "235/235 [==============================] - 2s 9ms/step - loss: 0.1238 - val_loss: 0.1229\n",
            "Epoch 67/100\n",
            "235/235 [==============================] - 1s 6ms/step - loss: 0.1238 - val_loss: 0.1229\n",
            "Epoch 68/100\n",
            "235/235 [==============================] - 1s 5ms/step - loss: 0.1237 - val_loss: 0.1229\n",
            "Epoch 69/100\n",
            "235/235 [==============================] - 1s 4ms/step - loss: 0.1237 - val_loss: 0.1229\n",
            "Epoch 70/100\n",
            "235/235 [==============================] - 2s 7ms/step - loss: 0.1237 - val_loss: 0.1229\n",
            "Epoch 71/100\n",
            "235/235 [==============================] - 1s 4ms/step - loss: 0.1237 - val_loss: 0.1228\n",
            "Epoch 72/100\n",
            "235/235 [==============================] - 1s 4ms/step - loss: 0.1237 - val_loss: 0.1228\n",
            "Epoch 73/100\n",
            "235/235 [==============================] - 1s 4ms/step - loss: 0.1237 - val_loss: 0.1229\n",
            "Epoch 74/100\n",
            "235/235 [==============================] - 1s 4ms/step - loss: 0.1237 - val_loss: 0.1228\n",
            "Epoch 75/100\n",
            "235/235 [==============================] - 1s 4ms/step - loss: 0.1237 - val_loss: 0.1228\n",
            "Epoch 76/100\n",
            "235/235 [==============================] - 1s 4ms/step - loss: 0.1237 - val_loss: 0.1228\n",
            "Epoch 77/100\n",
            "235/235 [==============================] - 1s 4ms/step - loss: 0.1237 - val_loss: 0.1228\n",
            "Epoch 78/100\n",
            "235/235 [==============================] - 1s 6ms/step - loss: 0.1237 - val_loss: 0.1228\n",
            "Epoch 79/100\n",
            "235/235 [==============================] - 3s 11ms/step - loss: 0.1237 - val_loss: 0.1230\n",
            "Epoch 80/100\n",
            "235/235 [==============================] - 1s 5ms/step - loss: 0.1237 - val_loss: 0.1227\n",
            "Epoch 81/100\n",
            "235/235 [==============================] - 1s 4ms/step - loss: 0.1236 - val_loss: 0.1227\n",
            "Epoch 82/100\n",
            "235/235 [==============================] - 1s 4ms/step - loss: 0.1236 - val_loss: 0.1230\n",
            "Epoch 83/100\n",
            "235/235 [==============================] - 1s 4ms/step - loss: 0.1237 - val_loss: 0.1227\n",
            "Epoch 84/100\n",
            "235/235 [==============================] - 1s 4ms/step - loss: 0.1236 - val_loss: 0.1227\n",
            "Epoch 85/100\n",
            "235/235 [==============================] - 1s 4ms/step - loss: 0.1236 - val_loss: 0.1228\n",
            "Epoch 86/100\n",
            "235/235 [==============================] - 1s 4ms/step - loss: 0.1236 - val_loss: 0.1228\n",
            "Epoch 87/100\n",
            "235/235 [==============================] - 1s 4ms/step - loss: 0.1236 - val_loss: 0.1227\n",
            "Epoch 88/100\n",
            "235/235 [==============================] - 1s 4ms/step - loss: 0.1236 - val_loss: 0.1228\n",
            "Epoch 89/100\n",
            "235/235 [==============================] - 1s 4ms/step - loss: 0.1236 - val_loss: 0.1227\n",
            "Epoch 90/100\n",
            "235/235 [==============================] - 1s 5ms/step - loss: 0.1236 - val_loss: 0.1228\n",
            "Epoch 91/100\n",
            "235/235 [==============================] - 1s 6ms/step - loss: 0.1236 - val_loss: 0.1227\n",
            "Epoch 92/100\n",
            "235/235 [==============================] - 1s 6ms/step - loss: 0.1236 - val_loss: 0.1228\n",
            "Epoch 93/100\n",
            "235/235 [==============================] - 1s 5ms/step - loss: 0.1236 - val_loss: 0.1228\n",
            "Epoch 94/100\n",
            "235/235 [==============================] - 1s 4ms/step - loss: 0.1236 - val_loss: 0.1227\n",
            "Epoch 95/100\n",
            "235/235 [==============================] - 1s 4ms/step - loss: 0.1236 - val_loss: 0.1229\n",
            "Epoch 96/100\n",
            "235/235 [==============================] - 1s 4ms/step - loss: 0.1235 - val_loss: 0.1228\n",
            "Epoch 97/100\n",
            "235/235 [==============================] - 1s 4ms/step - loss: 0.1236 - val_loss: 0.1227\n",
            "Epoch 98/100\n",
            "235/235 [==============================] - 1s 4ms/step - loss: 0.1236 - val_loss: 0.1228\n",
            "Epoch 99/100\n",
            "235/235 [==============================] - 1s 4ms/step - loss: 0.1236 - val_loss: 0.1228\n",
            "Epoch 100/100\n",
            "235/235 [==============================] - 1s 4ms/step - loss: 0.1235 - val_loss: 0.1227\n"
          ]
        },
        {
          "output_type": "execute_result",
          "data": {
            "text/plain": [
              "<keras.src.callbacks.History at 0x7b2f0011e020>"
            ]
          },
          "metadata": {},
          "execution_count": 17
        }
      ]
    },
    {
      "cell_type": "code",
      "source": [
        "idx = np.random.randint(X_test.shape[0])\n",
        "original_img = X_test[idx]\n",
        "\n",
        "noise_img = original_img + 0.5 * np.random.normal(loc=0.0, scale=1.0, size=original_img.shape)\n",
        "noise_img = np.clip(noise_img, 0.0, 1.0)\n",
        "\n",
        "denoised_img = autoencoder.predict(np.expand_dims(noise_img, axis=0))"
      ],
      "metadata": {
        "colab": {
          "base_uri": "https://localhost:8080/"
        },
        "id": "Hy3f2msa4gzY",
        "outputId": "cfd640b9-9a1b-41f2-db0d-d5ae376a640f"
      },
      "execution_count": 28,
      "outputs": [
        {
          "output_type": "stream",
          "name": "stdout",
          "text": [
            "1/1 [==============================] - 0s 25ms/step\n"
          ]
        }
      ]
    },
    {
      "cell_type": "code",
      "source": [
        "plt.figure(figsize=(10, 4))\n",
        "\n",
        "plt.subplot(1, 3, 1)\n",
        "plt.imshow(original_img.reshape(28, 28), cmap=\"gray\")\n",
        "plt.title(\"Original Image\")\n",
        "plt.axis(\"off\")\n",
        "\n",
        "plt.subplot(1, 3, 2)\n",
        "plt.imshow(noise_img.reshape(28, 28), cmap=\"gray\")\n",
        "plt.title(\"Noise Image\")\n",
        "plt.axis(\"off\")\n",
        "\n",
        "plt.subplot(1, 3, 3)\n",
        "plt.imshow(denoised_img.reshape(28, 28), cmap=\"gray\")\n",
        "plt.title(\"Denoised Image\")\n",
        "plt.axis(\"off\")"
      ],
      "metadata": {
        "colab": {
          "base_uri": "https://localhost:8080/",
          "height": 304
        },
        "id": "-b_uz8kZ-KjM",
        "outputId": "ed6dc679-515d-4d7f-a972-1e1e41cdce3f"
      },
      "execution_count": 29,
      "outputs": [
        {
          "output_type": "execute_result",
          "data": {
            "text/plain": [
              "(-0.5, 27.5, 27.5, -0.5)"
            ]
          },
          "metadata": {},
          "execution_count": 29
        },
        {
          "output_type": "display_data",
          "data": {
            "text/plain": [
              "<Figure size 1000x400 with 3 Axes>"
            ],
            "image/png": "[encoded data removed]"
          },
          "metadata": {}
        }
      ]
    }
  ]
}
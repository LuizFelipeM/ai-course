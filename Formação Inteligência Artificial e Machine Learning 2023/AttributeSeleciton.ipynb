{
  "nbformat": 4,
  "nbformat_minor": 0,
  "metadata": {
    "colab": {
      "provenance": []
    },
    "kernelspec": {
      "name": "python3",
      "display_name": "Python 3"
    },
    "language_info": {
      "name": "python"
    }
  },
  "cells": [
    {
      "cell_type": "code",
      "execution_count": 1,
      "metadata": {
        "id": "q2dssQ06Hly4"
      },
      "outputs": [],
      "source": [
        "import pandas as pd\n",
        "from sklearn.model_selection import train_test_split\n",
        "from sklearn.naive_bayes import GaussianNB\n",
        "from sklearn.metrics import classification_report\n",
        "from sklearn.feature_selection import chi2, SelectKBest"
      ]
    },
    {
      "cell_type": "code",
      "source": [
        "def report(y_true, y_pred):\n",
        "  report = classification_report(y_true, y_pred)\n",
        "  print(report)"
      ],
      "metadata": {
        "id": "14uO1zzDIjR7"
      },
      "execution_count": 3,
      "outputs": []
    },
    {
      "cell_type": "code",
      "source": [
        "ads = pd.read_csv('ad.data', header=None)\n",
        "ads.shape"
      ],
      "metadata": {
        "colab": {
          "base_uri": "https://localhost:8080/"
        },
        "id": "PF60_13BIurR",
        "outputId": "4e30f131-4ab2-4a06-e770-97ed10a278b0"
      },
      "execution_count": 4,
      "outputs": [
        {
          "output_type": "execute_result",
          "data": {
            "text/plain": [
              "(3279, 1559)"
            ]
          },
          "metadata": {},
          "execution_count": 4
        }
      ]
    },
    {
      "cell_type": "code",
      "source": [
        "y = ads.iloc[:, -1].values\n",
        "X = ads.iloc[:, :-1].values"
      ],
      "metadata": {
        "id": "9xBdBvmVJO4u"
      },
      "execution_count": 5,
      "outputs": []
    },
    {
      "cell_type": "code",
      "source": [
        "X_train, X_test, y_train, y_test = train_test_split(X, y, test_size=0.3, random_state=0)\n",
        "first_model = GaussianNB()\n",
        "first_model.fit(X_train, y_train)\n",
        "first_mode_predictions = first_model.predict(X_test)\n",
        "report(y_test, first_mode_predictions)"
      ],
      "metadata": {
        "colab": {
          "base_uri": "https://localhost:8080/"
        },
        "id": "6inIqV7oJt3A",
        "outputId": "6bcc5f4c-7eb1-463a-f646-58a10bcbfcd9"
      },
      "execution_count": 13,
      "outputs": [
        {
          "output_type": "stream",
          "name": "stdout",
          "text": [
            "              precision    recall  f1-score   support\n",
            "\n",
            "         ad.       0.34      0.86      0.49       123\n",
            "      nonad.       0.97      0.76      0.86       861\n",
            "\n",
            "    accuracy                           0.78       984\n",
            "   macro avg       0.66      0.81      0.67       984\n",
            "weighted avg       0.90      0.78      0.81       984\n",
            "\n"
          ]
        }
      ]
    },
    {
      "cell_type": "code",
      "source": [
        "selection = SelectKBest(chi2, k=7)\n",
        "# The attribute selection occurs based on the selected class (y) so changing the class would change the attributes selecteds\n",
        "X_new = selection.fit_transform(X, y)\n",
        "X_new"
      ],
      "metadata": {
        "colab": {
          "base_uri": "https://localhost:8080/"
        },
        "id": "c3UxMCDHKD0R",
        "outputId": "6d96c939-b3eb-47ba-9834-3602cd73b74c"
      },
      "execution_count": 9,
      "outputs": [
        {
          "output_type": "execute_result",
          "data": {
            "text/plain": [
              "array([[125.    , 125.    ,   1.    , ...,   1.    ,   0.    ,   1.    ],\n",
              "       [ 57.    , 468.    ,   8.2105, ...,   1.    ,   0.    ,   0.    ],\n",
              "       [ 33.    , 230.    ,   6.9696, ...,   0.    ,   0.    ,   0.    ],\n",
              "       ...,\n",
              "       [ 23.    , 120.    ,   5.2173, ...,   0.    ,   0.    ,   0.    ],\n",
              "       [  0.    ,   0.    ,   0.    , ...,   0.    ,   0.    ,   0.    ],\n",
              "       [ 40.    ,  40.    ,   1.    , ...,   0.    ,   0.    ,   0.    ]])"
            ]
          },
          "metadata": {},
          "execution_count": 9
        }
      ]
    },
    {
      "cell_type": "code",
      "source": [
        "# Checking the numer of columns (k=7) selected in the SelectKBest\n",
        "X_new.shape"
      ],
      "metadata": {
        "colab": {
          "base_uri": "https://localhost:8080/"
        },
        "id": "90gOi7hULILY",
        "outputId": "cda85bcd-ffcd-4c4d-e32d-7bc7527c8eec"
      },
      "execution_count": 11,
      "outputs": [
        {
          "output_type": "execute_result",
          "data": {
            "text/plain": [
              "(3279, 7)"
            ]
          },
          "metadata": {},
          "execution_count": 11
        }
      ]
    },
    {
      "cell_type": "code",
      "source": [
        "print(selection.get_support())"
      ],
      "metadata": {
        "colab": {
          "base_uri": "https://localhost:8080/"
        },
        "id": "GAh1O1GGLMyk",
        "outputId": "c9152a21-a076-43ba-f474-f6bd33c69c8f"
      },
      "execution_count": 12,
      "outputs": [
        {
          "output_type": "stream",
          "name": "stdout",
          "text": [
            "[ True  True  True ... False False False]\n"
          ]
        }
      ]
    },
    {
      "cell_type": "code",
      "source": [
        "X_train, X_test, y_train, y_test = train_test_split(X_new, y, test_size=0.3, random_state=0)\n",
        "second_model = GaussianNB()\n",
        "second_model.fit(X_train, y_train)\n",
        "second_mode_predictions = second_model.predict(X_test)\n",
        "report(y_test, second_mode_predictions)"
      ],
      "metadata": {
        "colab": {
          "base_uri": "https://localhost:8080/"
        },
        "id": "JKX1_0zhLbd-",
        "outputId": "205c2e44-cb75-412d-b2f1-1fb079434c53"
      },
      "execution_count": 14,
      "outputs": [
        {
          "output_type": "stream",
          "name": "stdout",
          "text": [
            "              precision    recall  f1-score   support\n",
            "\n",
            "         ad.       0.83      0.71      0.76       123\n",
            "      nonad.       0.96      0.98      0.97       861\n",
            "\n",
            "    accuracy                           0.95       984\n",
            "   macro avg       0.89      0.84      0.87       984\n",
            "weighted avg       0.94      0.95      0.94       984\n",
            "\n"
          ]
        }
      ]
    }
  ]
}
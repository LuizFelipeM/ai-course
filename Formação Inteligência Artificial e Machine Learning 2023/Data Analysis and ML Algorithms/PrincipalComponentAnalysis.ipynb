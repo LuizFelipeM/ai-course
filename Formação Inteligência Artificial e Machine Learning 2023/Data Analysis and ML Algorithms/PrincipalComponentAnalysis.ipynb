{
  "nbformat": 4,
  "nbformat_minor": 0,
  "metadata": {
    "colab": {
      "provenance": []
    },
    "kernelspec": {
      "name": "python3",
      "display_name": "Python 3"
    },
    "language_info": {
      "name": "python"
    }
  },
  "cells": [
    {
      "cell_type": "code",
      "execution_count": null,
      "metadata": {
        "id": "zESkjf0GxubW"
      },
      "outputs": [],
      "source": [
        "from sklearn.model_selection import train_test_split as tts\n",
        "from sklearn.metrics import accuracy_score\n",
        "from sklearn.decomposition import PCA\n",
        "from sklearn.ensemble import RandomForestClassifier\n",
        "from sklearn.preprocessing import StandardScaler\n",
        "from sklearn import datasets"
      ]
    },
    {
      "cell_type": "code",
      "source": [
        "iris = datasets.load_iris()\n",
        "predictors = iris.data\n",
        "classes = iris.target"
      ],
      "metadata": {
        "id": "y5mCoBcZyNet"
      },
      "execution_count": null,
      "outputs": []
    },
    {
      "cell_type": "code",
      "source": [
        "sc = StandardScaler()\n",
        "predictors = sc.fit_transform(predictors)"
      ],
      "metadata": {
        "id": "CBhhUQRJyj1n"
      },
      "execution_count": null,
      "outputs": []
    },
    {
      "cell_type": "code",
      "source": [
        "X_train, X_test, y_train, y_test = tts(predictors, classes, test_size=0.3, random_state=123)\n",
        "\n",
        "random_forest = RandomForestClassifier(n_estimators=100, random_state=1234)\n",
        "random_forest.fit(X_train, y_train)\n",
        "predictions = random_forest.predict(X_test)\n",
        "\n",
        "accuracy = accuracy_score(y_test, predictions)\n",
        "accuracy"
      ],
      "metadata": {
        "colab": {
          "base_uri": "https://localhost:8080/"
        },
        "id": "nUZPJVaZzNcd",
        "outputId": "4ad336d7-a883-4cc3-98fd-6bcd3b44c1bb"
      },
      "execution_count": null,
      "outputs": [
        {
          "output_type": "execute_result",
          "data": {
            "text/plain": [
              "0.9333333333333333"
            ]
          },
          "metadata": {},
          "execution_count": 7
        }
      ]
    },
    {
      "cell_type": "code",
      "source": [
        "pca = PCA(n_components=3)\n",
        "pca_predictors = pca.fit_transform(predictors)"
      ],
      "metadata": {
        "id": "d6JKN6W7zkdp"
      },
      "execution_count": null,
      "outputs": []
    },
    {
      "cell_type": "code",
      "source": [
        "X_pca_train, X_pca_test, y_pca_train, y_pca_test = tts(pca_predictors, classes, test_size=0.3, random_state=123)\n",
        "\n",
        "random_forest = RandomForestClassifier(n_estimators=100, random_state=1234)\n",
        "random_forest.fit(X_pca_train, y_pca_train)\n",
        "predictions = random_forest.predict(X_pca_test)\n",
        "\n",
        "accuracy = accuracy_score(y_pca_test, predictions)\n",
        "accuracy"
      ],
      "metadata": {
        "colab": {
          "base_uri": "https://localhost:8080/"
        },
        "id": "44i-jKp5z7ls",
        "outputId": "7f97e43c-05eb-4368-9835-0df29378959a"
      },
      "execution_count": null,
      "outputs": [
        {
          "output_type": "execute_result",
          "data": {
            "text/plain": [
              "0.9555555555555556"
            ]
          },
          "metadata": {},
          "execution_count": 10
        }
      ]
    }
  ]
}
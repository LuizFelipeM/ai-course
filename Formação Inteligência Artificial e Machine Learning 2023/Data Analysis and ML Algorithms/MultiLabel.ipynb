{
  "nbformat": 4,
  "nbformat_minor": 0,
  "metadata": {
    "colab": {
      "provenance": []
    },
    "kernelspec": {
      "name": "python3",
      "display_name": "Python 3"
    },
    "language_info": {
      "name": "python"
    }
  },
  "cells": [
    {
      "cell_type": "code",
      "execution_count": 1,
      "metadata": {
        "colab": {
          "base_uri": "https://localhost:8080/"
        },
        "id": "p3AYW0QNrtDt",
        "outputId": "85eb1ab4-7f62-4b9c-954d-98513acafd6d"
      },
      "outputs": [
        {
          "output_type": "stream",
          "name": "stdout",
          "text": [
            "Collecting scikit-multilearn\n",
            "  Downloading scikit_multilearn-0.2.0-py3-none-any.whl (89 kB)\n",
            "\u001b[?25l     \u001b[90m━━━━━━━━━━━━━━━━━━━━━━━━━━━━━━━━━━━━━━━━\u001b[0m \u001b[32m0.0/89.4 kB\u001b[0m \u001b[31m?\u001b[0m eta \u001b[36m-:--:--\u001b[0m\r\u001b[2K     \u001b[90m━━━━━━━━━━━━━━━━━━━━━━━━━━━━━━━━━━━━━━━━\u001b[0m \u001b[32m89.4/89.4 kB\u001b[0m \u001b[31m2.5 MB/s\u001b[0m eta \u001b[36m0:00:00\u001b[0m\n",
            "\u001b[?25hInstalling collected packages: scikit-multilearn\n",
            "Successfully installed scikit-multilearn-0.2.0\n"
          ]
        }
      ],
      "source": [
        "!pip install scikit-multilearn"
      ]
    },
    {
      "cell_type": "code",
      "source": [
        "import pandas as pd\n",
        "from skmultilearn.adapt import MLARAM\n",
        "from skmultilearn.problem_transform import BinaryRelevance, ClassifierChain, LabelPowerset\n",
        "from sklearn.svm import SVC\n",
        "from sklearn.model_selection import train_test_split\n",
        "from sklearn.metrics import hamming_loss"
      ],
      "metadata": {
        "id": "i4OO-09nr1Rt"
      },
      "execution_count": 2,
      "outputs": []
    },
    {
      "cell_type": "code",
      "source": [
        "musics = pd.read_csv(\"Musica.csv\")\n",
        "musics.shape"
      ],
      "metadata": {
        "colab": {
          "base_uri": "https://localhost:8080/"
        },
        "id": "GmxDQrrhsUhN",
        "outputId": "5c5341a7-3e18-4048-9346-1de4b94773dd"
      },
      "execution_count": 4,
      "outputs": [
        {
          "output_type": "execute_result",
          "data": {
            "text/plain": [
              "(592, 77)"
            ]
          },
          "metadata": {},
          "execution_count": 4
        }
      ]
    },
    {
      "cell_type": "code",
      "source": [
        "musics.head()"
      ],
      "metadata": {
        "colab": {
          "base_uri": "https://localhost:8080/",
          "height": 273
        },
        "id": "T5Q_kKqOsizf",
        "outputId": "b3159672-46ce-4594-f421-2233ead12a61"
      },
      "execution_count": 5,
      "outputs": [
        {
          "output_type": "execute_result",
          "data": {
            "text/plain": [
              "   amazed-suprised  happy-pleased  relaxing-clam  quiet-still  sad-lonely  \\\n",
              "0                0              1              1            0           0   \n",
              "1                1              0              0            0           0   \n",
              "2                0              1              0            0           0   \n",
              "3                0              0              1            0           0   \n",
              "4                0              0              0            1           0   \n",
              "\n",
              "   angry-aggresive  Mean_Acc1298_Mean_Mem40_Centroid  \\\n",
              "0                0                          0.132498   \n",
              "1                1                          0.384281   \n",
              "2                1                          0.541782   \n",
              "3                0                          0.174288   \n",
              "4                0                          0.347436   \n",
              "\n",
              "   Mean_Acc1298_Mean_Mem40_Rolloff  Mean_Acc1298_Mean_Mem40_Flux  \\\n",
              "0                         0.077848                      0.229227   \n",
              "1                         0.355249                      0.167190   \n",
              "2                         0.356491                      0.152246   \n",
              "3                         0.243935                      0.254326   \n",
              "4                         0.155448                      0.100047   \n",
              "\n",
              "   Mean_Acc1298_Mean_Mem40_MFCC_0  ...  Std_Acc1298_Std_Mem40_MFCC_10  \\\n",
              "0                        0.602629  ...                       0.197026   \n",
              "1                        0.853089  ...                       0.093526   \n",
              "2                        0.791142  ...                       0.198082   \n",
              "3                        0.438987  ...                       0.235793   \n",
              "4                        0.126026  ...                       0.715683   \n",
              "\n",
              "   Std_Acc1298_Std_Mem40_MFCC_11  Std_Acc1298_Std_Mem40_MFCC_12  \\\n",
              "0                       0.196244                       0.164323   \n",
              "1                       0.085649                       0.025101   \n",
              "2                       0.108067                       0.140574   \n",
              "3                       0.220195                       0.235834   \n",
              "4                       0.573359                       0.412368   \n",
              "\n",
              "   BH_LowPeakAmp  BH_LowPeakBPM  BH_HighPeakAmp  BH_HighPeakBPM    BHSUM1  \\\n",
              "0       0.030017       0.253968        0.008473        0.240602  0.136735   \n",
              "1       0.182955       0.285714        0.156764        0.270677  0.191377   \n",
              "2       0.099303       0.142857        0.000000        0.593985  0.105114   \n",
              "3       0.024988       0.222222        0.117169        0.210526  0.057288   \n",
              "4       0.016398       0.761905        0.081703        0.721805  0.108737   \n",
              "\n",
              "     BHSUM2    BHSUM3  \n",
              "0  0.058442  0.107594  \n",
              "1  0.153728  0.197951  \n",
              "2  0.025555  0.122965  \n",
              "3  0.134575  0.091509  \n",
              "4  0.172882  0.189934  \n",
              "\n",
              "[5 rows x 77 columns]"
            ],
            "text/html": [
              "\n",
              "  <div id=\"df-3e80163b-ec34-4a6f-b7dd-22fc5e53ad1c\" class=\"colab-df-container\">\n",
              "    <div>\n",
              "<style scoped>\n",
              "    .dataframe tbody tr th:only-of-type {\n",
              "        vertical-align: middle;\n",
              "    }\n",
              "\n",
              "    .dataframe tbody tr th {\n",
              "        vertical-align: top;\n",
              "    }\n",
              "\n",
              "    .dataframe thead th {\n",
              "        text-align: right;\n",
              "    }\n",
              "</style>\n",
              "<table border=\"1\" class=\"dataframe\">\n",
              "  <thead>\n",
              "    <tr style=\"text-align: right;\">\n",
              "      <th></th>\n",
              "      <th>amazed-suprised</th>\n",
              "      <th>happy-pleased</th>\n",
              "      <th>relaxing-clam</th>\n",
              "      <th>quiet-still</th>\n",
              "      <th>sad-lonely</th>\n",
              "      <th>angry-aggresive</th>\n",
              "      <th>Mean_Acc1298_Mean_Mem40_Centroid</th>\n",
              "      <th>Mean_Acc1298_Mean_Mem40_Rolloff</th>\n",
              "      <th>Mean_Acc1298_Mean_Mem40_Flux</th>\n",
              "      <th>Mean_Acc1298_Mean_Mem40_MFCC_0</th>\n",
              "      <th>...</th>\n",
              "      <th>Std_Acc1298_Std_Mem40_MFCC_10</th>\n",
              "      <th>Std_Acc1298_Std_Mem40_MFCC_11</th>\n",
              "      <th>Std_Acc1298_Std_Mem40_MFCC_12</th>\n",
              "      <th>BH_LowPeakAmp</th>\n",
              "      <th>BH_LowPeakBPM</th>\n",
              "      <th>BH_HighPeakAmp</th>\n",
              "      <th>BH_HighPeakBPM</th>\n",
              "      <th>BHSUM1</th>\n",
              "      <th>BHSUM2</th>\n",
              "      <th>BHSUM3</th>\n",
              "    </tr>\n",
              "  </thead>\n",
              "  <tbody>\n",
              "    <tr>\n",
              "      <th>0</th>\n",
              "      <td>0</td>\n",
              "      <td>1</td>\n",
              "      <td>1</td>\n",
              "      <td>0</td>\n",
              "      <td>0</td>\n",
              "      <td>0</td>\n",
              "      <td>0.132498</td>\n",
              "      <td>0.077848</td>\n",
              "      <td>0.229227</td>\n",
              "      <td>0.602629</td>\n",
              "      <td>...</td>\n",
              "      <td>0.197026</td>\n",
              "      <td>0.196244</td>\n",
              "      <td>0.164323</td>\n",
              "      <td>0.030017</td>\n",
              "      <td>0.253968</td>\n",
              "      <td>0.008473</td>\n",
              "      <td>0.240602</td>\n",
              "      <td>0.136735</td>\n",
              "      <td>0.058442</td>\n",
              "      <td>0.107594</td>\n",
              "    </tr>\n",
              "    <tr>\n",
              "      <th>1</th>\n",
              "      <td>1</td>\n",
              "      <td>0</td>\n",
              "      <td>0</td>\n",
              "      <td>0</td>\n",
              "      <td>0</td>\n",
              "      <td>1</td>\n",
              "      <td>0.384281</td>\n",
              "      <td>0.355249</td>\n",
              "      <td>0.167190</td>\n",
              "      <td>0.853089</td>\n",
              "      <td>...</td>\n",
              "      <td>0.093526</td>\n",
              "      <td>0.085649</td>\n",
              "      <td>0.025101</td>\n",
              "      <td>0.182955</td>\n",
              "      <td>0.285714</td>\n",
              "      <td>0.156764</td>\n",
              "      <td>0.270677</td>\n",
              "      <td>0.191377</td>\n",
              "      <td>0.153728</td>\n",
              "      <td>0.197951</td>\n",
              "    </tr>\n",
              "    <tr>\n",
              "      <th>2</th>\n",
              "      <td>0</td>\n",
              "      <td>1</td>\n",
              "      <td>0</td>\n",
              "      <td>0</td>\n",
              "      <td>0</td>\n",
              "      <td>1</td>\n",
              "      <td>0.541782</td>\n",
              "      <td>0.356491</td>\n",
              "      <td>0.152246</td>\n",
              "      <td>0.791142</td>\n",
              "      <td>...</td>\n",
              "      <td>0.198082</td>\n",
              "      <td>0.108067</td>\n",
              "      <td>0.140574</td>\n",
              "      <td>0.099303</td>\n",
              "      <td>0.142857</td>\n",
              "      <td>0.000000</td>\n",
              "      <td>0.593985</td>\n",
              "      <td>0.105114</td>\n",
              "      <td>0.025555</td>\n",
              "      <td>0.122965</td>\n",
              "    </tr>\n",
              "    <tr>\n",
              "      <th>3</th>\n",
              "      <td>0</td>\n",
              "      <td>0</td>\n",
              "      <td>1</td>\n",
              "      <td>0</td>\n",
              "      <td>0</td>\n",
              "      <td>0</td>\n",
              "      <td>0.174288</td>\n",
              "      <td>0.243935</td>\n",
              "      <td>0.254326</td>\n",
              "      <td>0.438987</td>\n",
              "      <td>...</td>\n",
              "      <td>0.235793</td>\n",
              "      <td>0.220195</td>\n",
              "      <td>0.235834</td>\n",
              "      <td>0.024988</td>\n",
              "      <td>0.222222</td>\n",
              "      <td>0.117169</td>\n",
              "      <td>0.210526</td>\n",
              "      <td>0.057288</td>\n",
              "      <td>0.134575</td>\n",
              "      <td>0.091509</td>\n",
              "    </tr>\n",
              "    <tr>\n",
              "      <th>4</th>\n",
              "      <td>0</td>\n",
              "      <td>0</td>\n",
              "      <td>0</td>\n",
              "      <td>1</td>\n",
              "      <td>0</td>\n",
              "      <td>0</td>\n",
              "      <td>0.347436</td>\n",
              "      <td>0.155448</td>\n",
              "      <td>0.100047</td>\n",
              "      <td>0.126026</td>\n",
              "      <td>...</td>\n",
              "      <td>0.715683</td>\n",
              "      <td>0.573359</td>\n",
              "      <td>0.412368</td>\n",
              "      <td>0.016398</td>\n",
              "      <td>0.761905</td>\n",
              "      <td>0.081703</td>\n",
              "      <td>0.721805</td>\n",
              "      <td>0.108737</td>\n",
              "      <td>0.172882</td>\n",
              "      <td>0.189934</td>\n",
              "    </tr>\n",
              "  </tbody>\n",
              "</table>\n",
              "<p>5 rows × 77 columns</p>\n",
              "</div>\n",
              "    <div class=\"colab-df-buttons\">\n",
              "\n",
              "  <div class=\"colab-df-container\">\n",
              "    <button class=\"colab-df-convert\" onclick=\"convertToInteractive('df-3e80163b-ec34-4a6f-b7dd-22fc5e53ad1c')\"\n",
              "            title=\"Convert this dataframe to an interactive table.\"\n",
              "            style=\"display:none;\">\n",
              "\n",
              "  <svg xmlns=\"http://www.w3.org/2000/svg\" height=\"24px\" viewBox=\"0 -960 960 960\">\n",
              "    <path d=\"M120-120v-720h720v720H120Zm60-500h600v-160H180v160Zm220 220h160v-160H400v160Zm0 220h160v-160H400v160ZM180-400h160v-160H180v160Zm440 0h160v-160H620v160ZM180-180h160v-160H180v160Zm440 0h160v-160H620v160Z\"/>\n",
              "  </svg>\n",
              "    </button>\n",
              "\n",
              "  <style>\n",
              "    .colab-df-container {\n",
              "      display:flex;\n",
              "      gap: 12px;\n",
              "    }\n",
              "\n",
              "    .colab-df-convert {\n",
              "      background-color: #E8F0FE;\n",
              "      border: none;\n",
              "      border-radius: 50%;\n",
              "      cursor: pointer;\n",
              "      display: none;\n",
              "      fill: #1967D2;\n",
              "      height: 32px;\n",
              "      padding: 0 0 0 0;\n",
              "      width: 32px;\n",
              "    }\n",
              "\n",
              "    .colab-df-convert:hover {\n",
              "      background-color: #E2EBFA;\n",
              "      box-shadow: 0px 1px 2px rgba(60, 64, 67, 0.3), 0px 1px 3px 1px rgba(60, 64, 67, 0.15);\n",
              "      fill: #174EA6;\n",
              "    }\n",
              "\n",
              "    .colab-df-buttons div {\n",
              "      margin-bottom: 4px;\n",
              "    }\n",
              "\n",
              "    [theme=dark] .colab-df-convert {\n",
              "      background-color: #3B4455;\n",
              "      fill: #D2E3FC;\n",
              "    }\n",
              "\n",
              "    [theme=dark] .colab-df-convert:hover {\n",
              "      background-color: #434B5C;\n",
              "      box-shadow: 0px 1px 3px 1px rgba(0, 0, 0, 0.15);\n",
              "      filter: drop-shadow(0px 1px 2px rgba(0, 0, 0, 0.3));\n",
              "      fill: #FFFFFF;\n",
              "    }\n",
              "  </style>\n",
              "\n",
              "    <script>\n",
              "      const buttonEl =\n",
              "        document.querySelector('#df-3e80163b-ec34-4a6f-b7dd-22fc5e53ad1c button.colab-df-convert');\n",
              "      buttonEl.style.display =\n",
              "        google.colab.kernel.accessAllowed ? 'block' : 'none';\n",
              "\n",
              "      async function convertToInteractive(key) {\n",
              "        const element = document.querySelector('#df-3e80163b-ec34-4a6f-b7dd-22fc5e53ad1c');\n",
              "        const dataTable =\n",
              "          await google.colab.kernel.invokeFunction('convertToInteractive',\n",
              "                                                    [key], {});\n",
              "        if (!dataTable) return;\n",
              "\n",
              "        const docLinkHtml = 'Like what you see? Visit the ' +\n",
              "          '<a target=\"_blank\" href=https://colab.research.google.com/notebooks/data_table.ipynb>data table notebook</a>'\n",
              "          + ' to learn more about interactive tables.';\n",
              "        element.innerHTML = '';\n",
              "        dataTable['output_type'] = 'display_data';\n",
              "        await google.colab.output.renderOutput(dataTable, element);\n",
              "        const docLink = document.createElement('div');\n",
              "        docLink.innerHTML = docLinkHtml;\n",
              "        element.appendChild(docLink);\n",
              "      }\n",
              "    </script>\n",
              "  </div>\n",
              "\n",
              "\n",
              "<div id=\"df-8526ecb9-7f87-4af7-9fe0-1932d9db11b6\">\n",
              "  <button class=\"colab-df-quickchart\" onclick=\"quickchart('df-8526ecb9-7f87-4af7-9fe0-1932d9db11b6')\"\n",
              "            title=\"Suggest charts.\"\n",
              "            style=\"display:none;\">\n",
              "\n",
              "<svg xmlns=\"http://www.w3.org/2000/svg\" height=\"24px\"viewBox=\"0 0 24 24\"\n",
              "     width=\"24px\">\n",
              "    <g>\n",
              "        <path d=\"M19 3H5c-1.1 0-2 .9-2 2v14c0 1.1.9 2 2 2h14c1.1 0 2-.9 2-2V5c0-1.1-.9-2-2-2zM9 17H7v-7h2v7zm4 0h-2V7h2v10zm4 0h-2v-4h2v4z\"/>\n",
              "    </g>\n",
              "</svg>\n",
              "  </button>\n",
              "\n",
              "<style>\n",
              "  .colab-df-quickchart {\n",
              "      --bg-color: #E8F0FE;\n",
              "      --fill-color: #1967D2;\n",
              "      --hover-bg-color: #E2EBFA;\n",
              "      --hover-fill-color: #174EA6;\n",
              "      --disabled-fill-color: #AAA;\n",
              "      --disabled-bg-color: #DDD;\n",
              "  }\n",
              "\n",
              "  [theme=dark] .colab-df-quickchart {\n",
              "      --bg-color: #3B4455;\n",
              "      --fill-color: #D2E3FC;\n",
              "      --hover-bg-color: #434B5C;\n",
              "      --hover-fill-color: #FFFFFF;\n",
              "      --disabled-bg-color: #3B4455;\n",
              "      --disabled-fill-color: #666;\n",
              "  }\n",
              "\n",
              "  .colab-df-quickchart {\n",
              "    background-color: var(--bg-color);\n",
              "    border: none;\n",
              "    border-radius: 50%;\n",
              "    cursor: pointer;\n",
              "    display: none;\n",
              "    fill: var(--fill-color);\n",
              "    height: 32px;\n",
              "    padding: 0;\n",
              "    width: 32px;\n",
              "  }\n",
              "\n",
              "  .colab-df-quickchart:hover {\n",
              "    background-color: var(--hover-bg-color);\n",
              "    box-shadow: 0 1px 2px rgba(60, 64, 67, 0.3), 0 1px 3px 1px rgba(60, 64, 67, 0.15);\n",
              "    fill: var(--button-hover-fill-color);\n",
              "  }\n",
              "\n",
              "  .colab-df-quickchart-complete:disabled,\n",
              "  .colab-df-quickchart-complete:disabled:hover {\n",
              "    background-color: var(--disabled-bg-color);\n",
              "    fill: var(--disabled-fill-color);\n",
              "    box-shadow: none;\n",
              "  }\n",
              "\n",
              "  .colab-df-spinner {\n",
              "    border: 2px solid var(--fill-color);\n",
              "    border-color: transparent;\n",
              "    border-bottom-color: var(--fill-color);\n",
              "    animation:\n",
              "      spin 1s steps(1) infinite;\n",
              "  }\n",
              "\n",
              "  @keyframes spin {\n",
              "    0% {\n",
              "      border-color: transparent;\n",
              "      border-bottom-color: var(--fill-color);\n",
              "      border-left-color: var(--fill-color);\n",
              "    }\n",
              "    20% {\n",
              "      border-color: transparent;\n",
              "      border-left-color: var(--fill-color);\n",
              "      border-top-color: var(--fill-color);\n",
              "    }\n",
              "    30% {\n",
              "      border-color: transparent;\n",
              "      border-left-color: var(--fill-color);\n",
              "      border-top-color: var(--fill-color);\n",
              "      border-right-color: var(--fill-color);\n",
              "    }\n",
              "    40% {\n",
              "      border-color: transparent;\n",
              "      border-right-color: var(--fill-color);\n",
              "      border-top-color: var(--fill-color);\n",
              "    }\n",
              "    60% {\n",
              "      border-color: transparent;\n",
              "      border-right-color: var(--fill-color);\n",
              "    }\n",
              "    80% {\n",
              "      border-color: transparent;\n",
              "      border-right-color: var(--fill-color);\n",
              "      border-bottom-color: var(--fill-color);\n",
              "    }\n",
              "    90% {\n",
              "      border-color: transparent;\n",
              "      border-bottom-color: var(--fill-color);\n",
              "    }\n",
              "  }\n",
              "</style>\n",
              "\n",
              "  <script>\n",
              "    async function quickchart(key) {\n",
              "      const quickchartButtonEl =\n",
              "        document.querySelector('#' + key + ' button');\n",
              "      quickchartButtonEl.disabled = true;  // To prevent multiple clicks.\n",
              "      quickchartButtonEl.classList.add('colab-df-spinner');\n",
              "      try {\n",
              "        const charts = await google.colab.kernel.invokeFunction(\n",
              "            'suggestCharts', [key], {});\n",
              "      } catch (error) {\n",
              "        console.error('Error during call to suggestCharts:', error);\n",
              "      }\n",
              "      quickchartButtonEl.classList.remove('colab-df-spinner');\n",
              "      quickchartButtonEl.classList.add('colab-df-quickchart-complete');\n",
              "    }\n",
              "    (() => {\n",
              "      let quickchartButtonEl =\n",
              "        document.querySelector('#df-8526ecb9-7f87-4af7-9fe0-1932d9db11b6 button');\n",
              "      quickchartButtonEl.style.display =\n",
              "        google.colab.kernel.accessAllowed ? 'block' : 'none';\n",
              "    })();\n",
              "  </script>\n",
              "</div>\n",
              "    </div>\n",
              "  </div>\n"
            ]
          },
          "metadata": {},
          "execution_count": 5
        }
      ]
    },
    {
      "cell_type": "code",
      "source": [
        "classes = musics.iloc[:, 0:6].values\n",
        "predictors = musics.iloc[:, 7:78].values"
      ],
      "metadata": {
        "id": "3gpkqAxPsmR1"
      },
      "execution_count": 6,
      "outputs": []
    },
    {
      "cell_type": "code",
      "source": [
        "X_train, X_test, y_train, y_test = train_test_split(predictors, classes, test_size=0.3, random_state=0)"
      ],
      "metadata": {
        "id": "-RQ_qTqes8VJ"
      },
      "execution_count": 7,
      "outputs": []
    },
    {
      "cell_type": "markdown",
      "source": [
        "# Testing multiple models for Multi Label models creation"
      ],
      "metadata": {
        "id": "4pmi1yk4uuYo"
      }
    },
    {
      "cell_type": "code",
      "source": [
        "ann = MLARAM()\n",
        "ann.fit(X_train, y_train)\n",
        "ann_predictions = ann.predict(X_test)\n",
        "print(f\"hamming_loss = {hamming_loss(y_test, ann_predictions)}\")"
      ],
      "metadata": {
        "colab": {
          "base_uri": "https://localhost:8080/"
        },
        "id": "OdPVh-JitItV",
        "outputId": "4a394de8-acca-4784-d12a-f2f4d19bbb3a"
      },
      "execution_count": 8,
      "outputs": [
        {
          "output_type": "stream",
          "name": "stdout",
          "text": [
            "hamming_loss = 0.24906367041198502\n"
          ]
        }
      ]
    },
    {
      "cell_type": "code",
      "source": [
        "binary_relevance = BinaryRelevance(classifier=SVC())\n",
        "binary_relevance.fit(X_train, y_train)\n",
        "binary_relevance_predictions = binary_relevance.predict(X_test)\n",
        "print(f\"hamming_loss = {hamming_loss(y_test, binary_relevance_predictions)}\")"
      ],
      "metadata": {
        "colab": {
          "base_uri": "https://localhost:8080/"
        },
        "id": "Xnkik1o8tfh0",
        "outputId": "ce96ef8e-2f6a-47dc-8dc2-d4c6d6e4e634"
      },
      "execution_count": 9,
      "outputs": [
        {
          "output_type": "stream",
          "name": "stdout",
          "text": [
            "hamming_loss = 0.199438202247191\n"
          ]
        }
      ]
    },
    {
      "cell_type": "code",
      "source": [
        "classifier_chain = ClassifierChain(classifier=SVC())\n",
        "classifier_chain.fit(X_train, y_train)\n",
        "classifier_chain_predictions = classifier_chain.predict(X_test)\n",
        "print(f\"hamming_loss = {hamming_loss(y_test, classifier_chain_predictions)}\")"
      ],
      "metadata": {
        "colab": {
          "base_uri": "https://localhost:8080/"
        },
        "id": "gI9U8Ieot-r9",
        "outputId": "a43b513c-ee0f-44d0-a526-c4fb4b7810ef"
      },
      "execution_count": 12,
      "outputs": [
        {
          "output_type": "stream",
          "name": "stdout",
          "text": [
            "hamming_loss = 0.2340823970037453\n"
          ]
        }
      ]
    },
    {
      "cell_type": "code",
      "source": [
        "label_powerset = LabelPowerset(classifier=SVC())\n",
        "label_powerset.fit(X_train, y_train)\n",
        "label_powerset_predictions = label_powerset.predict(X_test)\n",
        "print(f\"hamming_loss = {hamming_loss(y_test, label_powerset_predictions)}\")"
      ],
      "metadata": {
        "colab": {
          "base_uri": "https://localhost:8080/"
        },
        "id": "mZf9Dj67uNyE",
        "outputId": "d7f8b8b3-3922-4193-89ca-454983963721"
      },
      "execution_count": 13,
      "outputs": [
        {
          "output_type": "stream",
          "name": "stdout",
          "text": [
            "hamming_loss = 0.2209737827715356\n"
          ]
        }
      ]
    }
  ]
}